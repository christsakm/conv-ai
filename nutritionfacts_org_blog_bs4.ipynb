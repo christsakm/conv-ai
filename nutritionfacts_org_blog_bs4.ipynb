{
  "nbformat": 4,
  "nbformat_minor": 0,
  "metadata": {
    "colab": {
      "name": "nutritionfacts.org_blog_bs4.ipynb",
      "provenance": []
    },
    "kernelspec": {
      "name": "python3",
      "display_name": "Python 3"
    },
    "language_info": {
      "name": "python"
    }
  },
  "cells": [
    {
      "cell_type": "code",
      "source": [
        "# This piece of code word wraps the output text\n",
        "from IPython.display import HTML, display\n",
        "\n",
        "def set_css():\n",
        "  display(HTML('''<style> pre { white-space: pre-wrap; } </style>'''))\n",
        "get_ipython().events.register('pre_run_cell', set_css)"
      ],
      "metadata": {
        "id": "tKjQBt7QZ31-",
        "colab": {
          "base_uri": "https://localhost:8080/",
          "height": 17
        },
        "outputId": "4fb41e0b-5ccf-458c-a494-fd6f531b2ec3"
      },
      "execution_count": null,
      "outputs": [
        {
          "output_type": "display_data",
          "data": {
            "text/plain": [
              "<IPython.core.display.HTML object>"
            ],
            "text/html": [
              "<style> pre { white-space: pre-wrap; } </style>"
            ]
          },
          "metadata": {}
        }
      ]
    },
    {
      "cell_type": "code",
      "execution_count": null,
      "metadata": {
        "colab": {
          "base_uri": "https://localhost:8080/",
          "height": 52
        },
        "id": "ZcdB8FaoX698",
        "outputId": "c3cad8c4-9956-42a4-b8e6-75daf2601f74"
      },
      "outputs": [
        {
          "output_type": "display_data",
          "data": {
            "text/plain": [
              "<IPython.core.display.HTML object>"
            ],
            "text/html": [
              "<style> pre { white-space: pre-wrap; } </style>"
            ]
          },
          "metadata": {}
        },
        {
          "output_type": "display_data",
          "data": {
            "text/plain": [
              "<IPython.core.display.HTML object>"
            ],
            "text/html": [
              "<style> pre { white-space: pre-wrap; } </style>"
            ]
          },
          "metadata": {}
        },
        {
          "output_type": "stream",
          "name": "stdout",
          "text": [
            "Looking in indexes: https://pypi.org/simple, https://us-python.pkg.dev/colab-wheels/public/simple/\n",
            "Requirement already satisfied: beautifulsoup4 in /usr/local/lib/python3.7/dist-packages (4.6.3)\n"
          ]
        }
      ],
      "source": [
        "!pip install beautifulsoup4"
      ]
    },
    {
      "cell_type": "code",
      "source": [
        "import requests\n",
        "from bs4 import BeautifulSoup\n",
        "\n",
        "blog_months = []\n",
        "blog_articles = []\n",
        "\n",
        "req = requests.get(\"https://nutritionfacts.org/blog/\")\n",
        "# print(req.content)\n",
        "soup = BeautifulSoup(req.content, \"html.parser\")\n",
        "# print(soup.prettify())\n",
        "archives = soup.select(\"select option\") # ARCHIVE SELECTOR\n",
        "# print(archives)\n",
        "for option in archives:\n",
        "  if option.get('value').startswith('http'):\n",
        "    # print(option.get('value'))\n",
        "    blog_months.append(option.get('value'))"
      ],
      "metadata": {
        "colab": {
          "base_uri": "https://localhost:8080/",
          "height": 17
        },
        "id": "Xza2aWxeYylP",
        "outputId": "87edc695-69a5-4213-b9ec-edf803c7bf5e"
      },
      "execution_count": null,
      "outputs": [
        {
          "output_type": "display_data",
          "data": {
            "text/plain": [
              "<IPython.core.display.HTML object>"
            ],
            "text/html": [
              "<style> pre { white-space: pre-wrap; } </style>"
            ]
          },
          "metadata": {}
        },
        {
          "output_type": "display_data",
          "data": {
            "text/plain": [
              "<IPython.core.display.HTML object>"
            ],
            "text/html": [
              "<style> pre { white-space: pre-wrap; } </style>"
            ]
          },
          "metadata": {}
        }
      ]
    },
    {
      "cell_type": "code",
      "source": [
        "for blog_month in blog_months:\n",
        "  req = requests.get(blog_month)\n",
        "  soup = BeautifulSoup(req.content, \"html.parser\")\n",
        "  # print(soup.prettify())\n",
        "  blog_posts = soup.select(\".entry-title > a\") # BLOG POST SELECTOR\n",
        "  # print(blog_posts)\n",
        "  for blog_post in blog_posts:\n",
        "    # print(blog_post.get('href'), blog_post.get('title'))\n",
        "    blog_articles.append({\n",
        "      \"title\" : blog_post.get('title'), \n",
        "      \"link\" : blog_post.get('href')\n",
        "    })\n",
        "# blog_articles"
      ],
      "metadata": {
        "colab": {
          "base_uri": "https://localhost:8080/",
          "height": 17
        },
        "id": "ESmBCs6GwKxn",
        "outputId": "570b721f-7cf0-41e7-cf13-7b5e8e676fe7"
      },
      "execution_count": null,
      "outputs": [
        {
          "output_type": "display_data",
          "data": {
            "text/plain": [
              "<IPython.core.display.HTML object>"
            ],
            "text/html": [
              "<style> pre { white-space: pre-wrap; } </style>"
            ]
          },
          "metadata": {}
        },
        {
          "output_type": "display_data",
          "data": {
            "text/plain": [
              "<IPython.core.display.HTML object>"
            ],
            "text/html": [
              "<style> pre { white-space: pre-wrap; } </style>"
            ]
          },
          "metadata": {}
        }
      ]
    },
    {
      "cell_type": "code",
      "source": [
        "!mkdir blog_posts_downloaded\n",
        "# print(len(blog_articles))\n",
        "for i in range(len(blog_articles)):\n",
        "  title = blog_articles[i][\"title\"]\n",
        "  title = title.replace('/',' ') # sanitize title\n",
        "  link = blog_articles[i][\"link\"]\n",
        "  with open('blog_posts_downloaded/' + title + '.html', 'w') as file:\n",
        "    req = requests.get(link)\n",
        "    soup = BeautifulSoup(req.content, \"html.parser\")\n",
        "    file.write(soup.prettify())"
      ],
      "metadata": {
        "colab": {
          "base_uri": "https://localhost:8080/",
          "height": 34
        },
        "id": "eyfAJGclZ2Jv",
        "outputId": "dfe61fb8-c1a9-4346-e929-8acdb2b34393"
      },
      "execution_count": null,
      "outputs": [
        {
          "output_type": "display_data",
          "data": {
            "text/plain": [
              "<IPython.core.display.HTML object>"
            ],
            "text/html": [
              "<style> pre { white-space: pre-wrap; } </style>"
            ]
          },
          "metadata": {}
        },
        {
          "output_type": "display_data",
          "data": {
            "text/plain": [
              "<IPython.core.display.HTML object>"
            ],
            "text/html": [
              "<style> pre { white-space: pre-wrap; } </style>"
            ]
          },
          "metadata": {}
        },
        {
          "output_type": "stream",
          "name": "stdout",
          "text": [
            "mkdir: cannot create directory ‘blog_posts_downloaded’: File exists\n"
          ]
        }
      ]
    },
    {
      "cell_type": "code",
      "source": [
        "!zip -r blog_posts_downloaded blog_posts_downloaded\n",
        "from google.colab import files\n",
        "files.download(\"blog_posts_downloaded.zip\")"
      ],
      "metadata": {
        "id": "aVQOie2O29IQ"
      },
      "execution_count": null,
      "outputs": []
    }
  ]
}